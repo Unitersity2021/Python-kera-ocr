{
 "cells": [
  {
   "cell_type": "code",
   "execution_count": null,
   "metadata": {},
   "outputs": [],
   "source": [
    "import numpy as np\n",
    "import json\n",
    "import matplotlib.pyplot as plt\n",
    "import math, keras_ocr"
   ]
  },
  {
   "cell_type": "code",
   "execution_count": null,
   "metadata": {},
   "outputs": [],
   "source": [
    "# Load the pre-trained model\n",
    "pipeline = keras_ocr.pipeline.Pipeline() "
   ]
  },
  {
   "cell_type": "code",
   "execution_count": null,
   "metadata": {},
   "outputs": [],
   "source": [
    " # Provide an image for OCR\n",
    "image_path = './02.png'\n",
    "image = keras_ocr.tools.read(image_path)\n"
   ]
  },
  {
   "cell_type": "code",
   "execution_count": null,
   "metadata": {},
   "outputs": [],
   "source": [
    "# Perform OCR\n",
    "#predictions = pipeline.recognize([image])\n",
    "prediction_groups = pipeline.recognize([image]) \n",
    "print(prediction_groups)"
   ]
  },
  {
   "cell_type": "code",
   "execution_count": null,
   "metadata": {},
   "outputs": [],
   "source": [
    "keras_ocr.tools.drawAnnotations(image=image, predictions=prediction_groups[0])\n",
    " "
   ]
  },
  {
   "cell_type": "code",
   "execution_count": null,
   "metadata": {},
   "outputs": [],
   "source": [
    " #word, ( [top-left], (top-right), [bottom-right], bottom-left)\n",
    " \n",
    "prediction_groups[0][0]"
   ]
  },
  {
   "cell_type": "code",
   "execution_count": null,
   "metadata": {},
   "outputs": [],
   "source": [
    "# raw_detections =[]\n",
    "# for predictions in prediction_groups[0]:\n",
    "#     raw_detections.append(predictions[0])\n",
    "\n",
    "# print(f'Detections:{raw_detections') "
   ]
  },
  {
   "cell_type": "code",
   "execution_count": null,
   "metadata": {},
   "outputs": [],
   "source": [
    "def get_distance(predictions):\n",
    "    \"\"\" \n",
    "    Function returns dictionary with (key,value):\n",
    "        * text : detected text in image\n",
    "        * center_x : center of bounding box (x)\n",
    "        * center_y : center of bounding box (y)\n",
    "        * distance_from_origin : hypotenuse\n",
    "        * distance_y : distance between y and origin (0,0)\n",
    "    \"\"\"\n",
    "\n",
    "    # Point of origin\n",
    "    x0, y0 = 0, 0 \n",
    "\n",
    "    # Generate dictionary\n",
    "    detections = []\n",
    "    for group in predictions:\n",
    "    \n",
    "        # Get center point of bounding box\n",
    "        top_left_x, top_left_y = group[1][0]\n",
    "        bottom_right_x, bottom_right_y = group[1][1]\n",
    "        center_x, center_y = (top_left_x + bottom_right_x)/2, (top_left_y + bottom_right_y)/2\n",
    "\n",
    "        # Use the Pythagorean Theorem to solve for distance from origin\n",
    "        distance_from_origin = math.dist([x0,y0], [center_x, center_y])\n",
    "\n",
    "        # Calculate difference between y and origin to get unique rows\n",
    "        distance_y = center_y - y0\n",
    "\n",
    "        # Append all results\n",
    "        detections.append({\n",
    "                            'text': group[0],\n",
    "                            'center_x': center_x,\n",
    "                            'center_y': center_y,\n",
    "                            'distance_from_origin': distance_from_origin,\n",
    "                            'distance_y': distance_y\n",
    "                        })\n",
    "\n",
    "    return detections"
   ]
  },
  {
   "cell_type": "code",
   "execution_count": null,
   "metadata": {},
   "outputs": [],
   "source": [
    "predictions = prediction_groups[0] # extract text list\n",
    "predictions = get_distance(predictions)\n",
    "predictions"
   ]
  },
  {
   "cell_type": "code",
   "execution_count": null,
   "metadata": {},
   "outputs": [],
   "source": [
    "def distinguish_rows(lst, thresh=15):\n",
    "    \"\"\"Function to help distinguish unique rows\"\"\"\n",
    "    sublists = []\n",
    "    for i in range(0, len(lst)-1):\n",
    "        if (lst[i+1]['distance_y'] - lst[i]['distance_y'] <= thresh):\n",
    "            if lst[i] not in sublists:\n",
    "                sublists.append(lst[i])\n",
    "            sublists.append(lst[i+1])\n",
    "        else:\n",
    "            yield sublists\n",
    "            sublists = [lst[i+1]]\n",
    "    yield sublists"
   ]
  },
  {
   "cell_type": "code",
   "execution_count": null,
   "metadata": {},
   "outputs": [],
   "source": [
    "# Set thresh higher for text further apart\n",
    "predictions = list(distinguish_rows(predictions, thresh=15))\n",
    "predictions"
   ]
  },
  {
   "cell_type": "code",
   "execution_count": 50,
   "metadata": {},
   "outputs": [],
   "source": [
    "# Remove all empty rows\n",
    "predictions = list(filter(lambda x:x!=[], predictions))"
   ]
  },
  {
   "cell_type": "code",
   "execution_count": 51,
   "metadata": {},
   "outputs": [
    {
     "name": "stdout",
     "output_type": "stream",
     "text": [
      "Detections: ['house', 'beautiful', 'five', 'dead', 'giveaways', 'immediately', 'signal', 'to', 'burglars', 'that', 'youre', 'not', 'at', 'home']\n"
     ]
    }
   ],
   "source": [
    "# Order text detections in human readable format\n",
    "ordered_preds = []\n",
    "for row in predictions:\n",
    "    row = sorted(row, key=lambda x:x['distance_from_origin'])\n",
    "    for each in row: ordered_preds.append(each['text'])\n",
    "print(f'Detections: {ordered_preds}')"
   ]
  }
 ],
 "metadata": {
  "kernelspec": {
   "display_name": "Python 3.11.0 64-bit",
   "language": "python",
   "name": "python3"
  },
  "language_info": {
   "codemirror_mode": {
    "name": "ipython",
    "version": 3
   },
   "file_extension": ".py",
   "mimetype": "text/x-python",
   "name": "python",
   "nbconvert_exporter": "python",
   "pygments_lexer": "ipython3",
   "version": "3.11.0"
  },
  "orig_nbformat": 4,
  "vscode": {
   "interpreter": {
    "hash": "aee8b7b246df8f9039afb4144a1f6fd8d2ca17a180786b69acc140d282b71a49"
   }
  }
 },
 "nbformat": 4,
 "nbformat_minor": 2
}
